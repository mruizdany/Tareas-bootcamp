{
 "cells": [
  {
   "cell_type": "markdown",
   "metadata": {},
   "source": [
    "# Listado de Ejercicios a realizar"
   ]
  },
  {
   "cell_type": "markdown",
   "metadata": {},
   "source": [
    "## 1. Sin usar el computador, evalúe las siguientes expresiones, y para cada una de ellas indique el resultado y su tipo (si la expresión es válida) o qué error ocurre:\n",
    "\n",
    "### Ejemplo\n",
    "- 2 + 3      # Respuesta: tipo int, valor 5\n",
    "- 4 / 0      # Respuesta: error de división por cero\n",
    "\n",
    "### Ejercicio\n",
    "\n",
    "- 5 + 3 * 4                              #Respuesta: tipo int, valor 17\n",
    "- '5' + '3' * 2                          #Respuesta: tipo string, valor \"533\"\n",
    "- 2 ** 11 == 1000 or 2 ** 9 == 100       #Respuesta tipo booleana, valor false\n",
    "- int(\"cincuenta\")                       #Respuesta: error syntax error\n",
    "- 16/16 + 384/24                         #Respuesta tipo int, valor 17\n",
    "- 600 + 18%                              #Repuesta: Error\n",
    "- 0 < (4096 % 10) < 6                    # Repuesta: tipo boolean, Valor Falso\n",
    "- 'Max' + 'Min'                          # Repuesta: tipo string, valor \"MaxMin\"\n",
    "- ABC() * DEF()                          #Respuesta: Erro variable no definina\n",
    "- float(-int('7') + int('90'))           #Respuesta: tipo float, valor 83.0\n",
    "- abs(len('seis') - len('tres'))         #Respuesta: tipo int, valor 0\n",
    "- bool(1210) or bool(-3465)              #Respuesta: tipo boolean, valor true\n",
    "- float(str(int('8' * 3) / 3)[3])        #Respuesta: error, no se puede convertir string a float"
   ]
  },
  {
   "cell_type": "code",
   "execution_count": null,
   "metadata": {},
   "outputs": [],
   "source": []
  },
  {
   "cell_type": "markdown",
   "metadata": {},
   "source": [
    "# 2. Imprima su nombre y fecha\n",
    "- Imprime: Jorge Alvarez - 20-04-2020"
   ]
  },
  {
   "cell_type": "code",
   "execution_count": 12,
   "metadata": {},
   "outputs": [
    {
     "name": "stdout",
     "output_type": "stream",
     "text": [
      "Jorge Alvarez - 20-04-2020\n"
     ]
    }
   ],
   "source": [
    "# Respuesta:\n",
    "print (\"Jorge Alvarez \"+ \"- 20-04-2020\")"
   ]
  },
  {
   "cell_type": "markdown",
   "metadata": {},
   "source": [
    "# 3. Solicite un nombre y que el programa salude\n",
    "### Ejemplo:\n",
    "- ingreso: 'Andres'\n",
    "- imprime: 'Hola Andres'"
   ]
  },
  {
   "cell_type": "code",
   "execution_count": 5,
   "metadata": {},
   "outputs": [
    {
     "name": "stdout",
     "output_type": "stream",
     "text": [
      "Andres\n",
      "hola Andres\n"
     ]
    }
   ],
   "source": [
    "# Respuesta:\n",
    "Name=input()\n",
    "print((\"hola \"+ Name))\n"
   ]
  },
  {
   "cell_type": "markdown",
   "metadata": {},
   "source": [
    "# 4. Solicite el radio (un numero) de un círculo e imprima como salida su diámetro, perímetro y su área\n",
    "### Ejemplo\n",
    "- ingreso: 3 \n",
    "- imprime - Diametro: 6\n",
    "- imprime - Perimetro: 18.84\n",
    "- imprime - Area: 28.27"
   ]
  },
  {
   "cell_type": "code",
   "execution_count": null,
   "metadata": {},
   "outputs": [],
   "source": [
    "# Respuesta:\n",
    "\n",
    "import math\n",
    "x=input(\"ingre el radio del circulo\") #Radio del circulo\n",
    "Radio=float(x)\n",
    "D=(2 * Radio) #Diametro del circulo\n",
    "print(\"Diametro: \"+ str(D))\n",
    "P=2*math.pi*Radio #Perimetro del circulo\n",
    "print(\"Perimetro: \"+ str(P))\n",
    "A=math.pi*(Radio**2) #Area del ciruclo\n",
    "print(\"Area: \" + str(A))\n",
    "\n",
    "\n",
    "\n",
    "\n",
    "\n",
    "\n"
   ]
  },
  {
   "cell_type": "markdown",
   "metadata": {},
   "source": [
    "# 5. Solicite 6 notas y calcule el promedio de ellas\n",
    "### Ejemplo\n",
    "- ingreso: 1 2 3 4 5 6\n",
    "- imprime: 3.5"
   ]
  },
  {
   "cell_type": "code",
   "execution_count": 69,
   "metadata": {},
   "outputs": [
    {
     "name": "stdout",
     "output_type": "stream",
     "text": [
      "ingrese la 1 nota1\n",
      "ingrese la 2 nota2\n",
      "ingrese la 3 nota3\n",
      "ingrese la 4 nota4\n",
      "ingrese la 5 nota5\n",
      "ingrese la 6 nota6\n",
      "3.5\n"
     ]
    }
   ],
   "source": [
    "\n",
    "sumanotas=0\n",
    "promedio=0\n",
    "for i in range (6):\n",
    "    Notas=input(\"ingrese la \"+ str(i+1) + \" nota\")\n",
    "    sumanotas+=float(Notas)\n",
    "promedio=sumanotas/6\n",
    "print(promedio)\n"
   ]
  },
  {
   "cell_type": "markdown",
   "metadata": {},
   "source": [
    "# 6. Solicite un valor e imprima que tipo de dato es\n",
    "### Ejemplo\n",
    "- ingreso: 'A'\n",
    "- imprime: str\n",
    "- ingreso: 1\n",
    "- imprime: int"
   ]
  },
  {
   "cell_type": "code",
   "execution_count": 3,
   "metadata": {},
   "outputs": [
    {
     "name": "stdout",
     "output_type": "stream",
     "text": [
      "hola\n",
      "<class 'str'>\n"
     ]
    }
   ],
   "source": [
    "# Respuesta:\n",
    "Dato=input()\n",
    "if str.isdigit(Dato):\n",
    "    x=int(Dato)\n",
    "    print(type(x))\n",
    "else:\n",
    "    try:\n",
    "        y=float(Dato)\n",
    "        print(type(y))\n",
    "    except:\n",
    "        print(type(Dato))\n",
    "\n",
    "       "
   ]
  },
  {
   "cell_type": "markdown",
   "metadata": {},
   "source": [
    "# 7. Escriba en código la siguiente ecuación\n",
    "$$ \\left(\\frac{5+3}{3-2}\\right)^2$$"
   ]
  },
  {
   "cell_type": "code",
   "execution_count": null,
   "metadata": {},
   "outputs": [],
   "source": [
    "# Respuesta\n",
    "x=((5+3)/(3-2))**2\n",
    "x\n"
   ]
  },
  {
   "cell_type": "markdown",
   "metadata": {},
   "source": [
    "# 8. Solicite número de horas trabajadas y coste por horas e imprima el valor\n",
    "### Ejemplo:\n",
    "- Ingreso: 4 (horas)\n",
    "- ingreso: 80.000 (precio x hora)\n",
    "- imprime: 320.000"
   ]
  },
  {
   "cell_type": "code",
   "execution_count": 74,
   "metadata": {},
   "outputs": [
    {
     "name": "stdout",
     "output_type": "stream",
     "text": [
      "ingrese las horas de trabajo4\n",
      "ingrese el coste por hora80.000\n"
     ]
    },
    {
     "data": {
      "text/plain": [
       "320.0"
      ]
     },
     "execution_count": 74,
     "metadata": {},
     "output_type": "execute_result"
    }
   ],
   "source": [
    "# Respuesta\n",
    "x=input(\"ingrese las horas de trabajo\")\n",
    "horas=float(x)\n",
    "y=input(\"ingrese el coste por hora\")\n",
    "coste=float(y)\n",
    "total=horas*coste\n",
    "total\n",
    "\n"
   ]
  },
  {
   "cell_type": "markdown",
   "metadata": {},
   "source": [
    "# 9. Solicite la temperatura en grados Celsius e imprima en grados Kelvin y Fahrenheit \n",
    "### Ejemplo:\n",
    "- ingreso: 38 (°C)\n",
    "- imprime: 311.15 °K\n",
    "- imprime: 100.4 °F"
   ]
  },
  {
   "cell_type": "code",
   "execution_count": 81,
   "metadata": {},
   "outputs": [
    {
     "name": "stdout",
     "output_type": "stream",
     "text": [
      "ingrese la tempuratura en Celius38\n",
      "los grados en Kelvin son 311.15 °K \n",
      "los grados en fahrenheit son 100.4 °F\n"
     ]
    }
   ],
   "source": [
    "# Respuesta\n",
    "x=input(\"ingrese la tempuratura en Celius\")\n",
    "celsius=float(x)\n",
    "kelvin=celsius+273.15\n",
    "fahrenheit=(celsius*(9/5))+32\n",
    "print(\"los grados en Kelvin son \"+ str(kelvin)+ \" °K \\n\" \n",
    "     \"los grados en fahrenheit son \"+ str(fahrenheit)+ \" °F\")"
   ]
  },
  {
   "cell_type": "markdown",
   "metadata": {},
   "source": [
    "# 10. Solicite 2 numeros e imprima si el segundo es mayor  \n",
    "### Ejemplo:\n",
    "- ingreso: 2\n",
    "- ingreso: 3\n",
    "- impmrime: True"
   ]
  },
  {
   "cell_type": "code",
   "execution_count": 94,
   "metadata": {},
   "outputs": [
    {
     "name": "stdout",
     "output_type": "stream",
     "text": [
      "ingrese el primer número2\n",
      "ingrese el segundo número3\n",
      "True\n"
     ]
    }
   ],
   "source": [
    "# Respuesta\n",
    "x=float(input(\"ingrese el primer número\"))\n",
    "y=float(input(\"ingrese el segundo número\"))\n",
    "\n",
    "if y > x:\n",
    "   print(y>x)\n",
    "    \n"
   ]
  },
  {
   "cell_type": "markdown",
   "metadata": {},
   "source": [
    "# 11. Solicite 2 numeros e imprima si el segundo es menor  \n",
    "### Ejemplo:\n",
    "- ingreso: 2\n",
    "- ingreso: 3\n",
    "- impmrime: False"
   ]
  },
  {
   "cell_type": "code",
   "execution_count": 96,
   "metadata": {},
   "outputs": [
    {
     "name": "stdout",
     "output_type": "stream",
     "text": [
      "ingrese el primer número2\n",
      "ingrese el segundo número3\n",
      "False\n"
     ]
    }
   ],
   "source": [
    "# Respuesta\n",
    "x=float(input(\"ingrese el primer número\"))\n",
    "y=float(input(\"ingrese el segundo número\"))\n",
    "\n",
    "if y >x:\n",
    "   print(y<x)\n"
   ]
  },
  {
   "cell_type": "markdown",
   "metadata": {},
   "source": [
    "# 12. Solicite una distancia (metros) y la velocidad (metros/segundos) e imprima el tiempo que se demora el recorrido\n",
    "### Ejemplo:\n",
    "- ingreso: 150 (metros)\n",
    "- ingreso: 15 (metros/segundo)\n",
    "- Imprime: 10 segundos"
   ]
  },
  {
   "cell_type": "code",
   "execution_count": 100,
   "metadata": {},
   "outputs": [
    {
     "name": "stdout",
     "output_type": "stream",
     "text": [
      "ingrese la Distancia en metros 150\n",
      "ingrese la Velocidad en metros/segundos 15\n",
      "10.0 segundos\n"
     ]
    }
   ],
   "source": [
    "# Respuesta\n",
    "Distancia=float(input(\"ingrese la Distancia en metros \"))\n",
    "Velocidad = float(input(\"ingrese la Velocidad en metros/segundos \"))\n",
    "Tiempo=Distancia/Velocidad\n",
    "print(str(Tiempo)+ \" segundos\")"
   ]
  },
  {
   "cell_type": "markdown",
   "metadata": {},
   "source": [
    "# 13. Solicite al usuario tres valores y escriba en código la siguiente ecuación\n",
    "$$ \\left(\\frac{a+b}{c}\\right) ^2 + \\left(\\frac{a-b}{c}\\right) ^ 2 $$"
   ]
  },
  {
   "cell_type": "code",
   "execution_count": 102,
   "metadata": {},
   "outputs": [
    {
     "name": "stdout",
     "output_type": "stream",
     "text": [
      "ingrese el valor de a: 1\n",
      "ingrese el valor de b: 1\n",
      "ingrese el valor de c: 1\n",
      "4.0\n"
     ]
    }
   ],
   "source": [
    "# Respuesta\n",
    "a=float(input(\"ingrese el valor de a: \"))\n",
    "b=float(input(\"ingrese el valor de b: \"))\n",
    "c=float(input(\"ingrese el valor de c: \"))\n",
    "Ecuacion= (((a+b)/c)**2)+(((a-b)/c)**2)\n",
    "print(Ecuacion)"
   ]
  },
  {
   "cell_type": "markdown",
   "metadata": {},
   "source": [
    "# 14. Investigue como se saca la raíz cuadrada de un número en Python y escriba la solución en el cuadro de abajo"
   ]
  },
  {
   "cell_type": "code",
   "execution_count": 118,
   "metadata": {},
   "outputs": [
    {
     "name": "stdout",
     "output_type": "stream",
     "text": [
      "Ingrese numero: -25\n",
      "5.0i\n"
     ]
    }
   ],
   "source": [
    "# Respuesta\n",
    "import math\n",
    "numero=float(input(\"Ingrese numero: \"))\n",
    "if numero>0:\n",
    "    raiz=math.sqrt(numero)\n",
    "    print (raiz)\n",
    "    \n",
    "else:\n",
    "    raiz=math.sqrt(numero*-1)\n",
    "    print (str(raiz)+\"i\")\n",
    "    \n",
    "    \n",
    "    \n",
    "\n",
    "\n",
    "    "
   ]
  },
  {
   "cell_type": "markdown",
   "metadata": {},
   "source": [
    "# 15.  Con lo anterior solicite 2 numeros (Cateto a y Cateto b) e imprima la hipotenusa.\n",
    "### Ejemplo:\n",
    "- ingreso: 3 (Cateto a)\n",
    "- ingreso: 4 (Cateto b)\n",
    "- imprime: Hipotenusa = 5"
   ]
  },
  {
   "cell_type": "code",
   "execution_count": 4,
   "metadata": {},
   "outputs": [
    {
     "name": "stdout",
     "output_type": "stream",
     "text": [
      "ingrese el valor del Cateto a: 3\n",
      "ingrese el valor del Cateto b: 4\n",
      "5.0\n"
     ]
    }
   ],
   "source": [
    "# Respuesta\n",
    "import math\n",
    "a=float(input(\"ingrese el valor del Cateto a: \"))\n",
    "b=float(input(\"ingrese el valor del Cateto b: \"))\n",
    "hipotenusa=math.sqrt((a**2)+(b**2))\n",
    "print(hipotenusa)"
   ]
  },
  {
   "cell_type": "code",
   "execution_count": null,
   "metadata": {},
   "outputs": [],
   "source": []
  }
 ],
 "metadata": {
  "kernelspec": {
   "display_name": "Python 3",
   "language": "python",
   "name": "python3"
  },
  "language_info": {
   "codemirror_mode": {
    "name": "ipython",
    "version": 3
   },
   "file_extension": ".py",
   "mimetype": "text/x-python",
   "name": "python",
   "nbconvert_exporter": "python",
   "pygments_lexer": "ipython3",
   "version": "3.8.8"
  }
 },
 "nbformat": 4,
 "nbformat_minor": 2
}
